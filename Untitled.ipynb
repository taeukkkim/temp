{
 "cells": [
  {
   "cell_type": "code",
   "execution_count": 84,
   "id": "c1e067bb-c6c4-40e9-bc57-e631f6556eb3",
   "metadata": {},
   "outputs": [],
   "source": [
    "from datasets import load_from_disk, Dataset, DatasetDict\n",
    "import os"
   ]
  },
  {
   "cell_type": "code",
   "execution_count": 85,
   "id": "e2476362-eeef-486c-a75c-ea4d20d404ea",
   "metadata": {},
   "outputs": [],
   "source": [
    "noanswer = load_from_disk(os.path.join(\"./data\"))['noanswer']\n",
    "normal = load_from_disk(os.path.join(\"./data\"))['normal']\n",
    "clue = load_from_disk(os.path.join(\"./data\"))['clue']\n",
    "train = load_from_disk(os.path.join(\"./data/KorQuAD-v1.0\"))['train']"
   ]
  },
  {
   "cell_type": "code",
   "execution_count": 86,
   "id": "72991a3d-d2bd-49d9-aade-d7e248574356",
   "metadata": {},
   "outputs": [],
   "source": [
    "df_normal = Dataset.to_pandas(normal)\n",
    "df_train = Dataset.to_pandas(train)\n",
    "df_noanswer = Dataset.to_pandas(noanswer)"
   ]
  },
  {
   "cell_type": "code",
   "execution_count": 87,
   "id": "27543286-ac41-4308-a467-35f201655a33",
   "metadata": {},
   "outputs": [],
   "source": [
    "df_normal['answer_text'] = df_normal['answers'].apply(lambda x: x['text'][0])\n",
    "df_normal['answer_start'] = df_normal['answers'].apply(lambda x: x['answer_start'][0])\n",
    "\n",
    "df_train['answer_text'] = df_train['answers'].apply(lambda x: x['text'][0])\n",
    "df_train['answer_start'] = df_train['answers'].apply(lambda x: x['answer_start'][0])"
   ]
  },
  {
   "cell_type": "code",
   "execution_count": 88,
   "id": "ab532b5e-a1e9-4673-9bf4-3f36d118d412",
   "metadata": {},
   "outputs": [
    {
     "data": {
      "text/plain": [
       "38506"
      ]
     },
     "execution_count": 88,
     "metadata": {},
     "output_type": "execute_result"
    }
   ],
   "source": [
    "df_normal.title.nunique()"
   ]
  },
  {
   "cell_type": "code",
   "execution_count": 89,
   "id": "d83cbf15-516f-4c88-bca1-e1b9073fd0b7",
   "metadata": {},
   "outputs": [],
   "source": [
    "import matplotlib.pyplot as plt"
   ]
  },
  {
   "cell_type": "code",
   "execution_count": 90,
   "id": "258b7460-ba96-4d46-8b5d-b600bdde212e",
   "metadata": {},
   "outputs": [],
   "source": [
    "ans_len = [len(a) for a in df_normal.answer_text]\n",
    "train_ans_len = [len(a) for a in df_train.answer_text]"
   ]
  },
  {
   "cell_type": "code",
   "execution_count": 91,
   "id": "59287877-48a0-4ffa-8918-7463fb7cb055",
   "metadata": {},
   "outputs": [
    {
     "data": {
      "text/plain": [
       "[<matplotlib.lines.Line2D at 0x7f8c423c4670>]"
      ]
     },
     "execution_count": 91,
     "metadata": {},
     "output_type": "execute_result"
    },
    {
     "data": {
      "image/png": "[encoded data removed]",
      "text/plain": [
       "<Figure size 432x288 with 1 Axes>"
      ]
     },
     "metadata": {
      "needs_background": "light"
     },
     "output_type": "display_data"
    }
   ],
   "source": [
    "plt.plot(train_ans_len)"
   ]
  },
  {
   "cell_type": "code",
   "execution_count": 92,
   "id": "45b69824-00af-4101-afa9-e44aca2fd4c2",
   "metadata": {},
   "outputs": [],
   "source": [
    "import numpy as np\n",
    "import pandas as pd"
   ]
  },
  {
   "cell_type": "code",
   "execution_count": 93,
   "id": "c457aaff-65ba-4b65-96e5-4dc173259287",
   "metadata": {},
   "outputs": [],
   "source": [
    "train_ans_df = pd.DataFrame(train_ans_len)"
   ]
  },
  {
   "cell_type": "code",
   "execution_count": 94,
   "id": "cdb4123e-d5c0-4192-9a33-e0e4cfc3e8fe",
   "metadata": {},
   "outputs": [],
   "source": [
    "ans_df = pd.DataFrame(ans_len)"
   ]
  },
  {
   "cell_type": "code",
   "execution_count": 95,
   "id": "d893357d-41db-4998-9ef8-d4704ae092a6",
   "metadata": {},
   "outputs": [],
   "source": [
    "df_normal['ans_len'] = ans_len\n",
    "df_train['ans_len'] = train_ans_len"
   ]
  },
  {
   "cell_type": "code",
   "execution_count": 96,
   "id": "e360523c-6806-48e7-b2ea-e2ec6081c29d",
   "metadata": {},
   "outputs": [
    {
     "name": "stdout",
     "output_type": "stream",
     "text": [
      "                   0\n",
      "count  243425.000000\n",
      "mean       24.337036\n",
      "std        31.734629\n",
      "min         1.000000\n",
      "25%         5.000000\n",
      "50%        12.000000\n",
      "75%        32.000000\n",
      "max      1078.000000\n",
      "                  0\n",
      "count  60407.000000\n",
      "mean       5.611287\n",
      "std        3.564638\n",
      "min        1.000000\n",
      "25%        3.000000\n",
      "50%        5.000000\n",
      "75%        7.000000\n",
      "max       84.000000\n"
     ]
    }
   ],
   "source": [
    "print(ans_df.describe())\n",
    "print(train_ans_df.describe())"
   ]
  },
  {
   "cell_type": "code",
   "execution_count": 97,
   "id": "919c3309-d183-4b3d-8a84-60493f2cb254",
   "metadata": {},
   "outputs": [],
   "source": [
    "df_normal = df_normal[df_normal['ans_len'] <= 80].reset_index(drop=True)"
   ]
  },
  {
   "cell_type": "code",
   "execution_count": 98,
   "id": "5decf5b9-d2a7-4b89-ad94-df0fedd49e58",
   "metadata": {},
   "outputs": [],
   "source": [
    "del df_normal['ans_len']"
   ]
  },
  {
   "cell_type": "code",
   "execution_count": 99,
   "id": "5dbc8475-34de-4594-92cd-0eb30b965e3f",
   "metadata": {},
   "outputs": [
    {
     "data": {
      "text/plain": [
       "work_what     49511\n",
       "work_who      44875\n",
       "work_when     39877\n",
       "work_how      33910\n",
       "work_where    33251\n",
       "work_why      28113\n",
       "Name: classtype, dtype: int64"
      ]
     },
     "execution_count": 99,
     "metadata": {},
     "output_type": "execute_result"
    }
   ],
   "source": [
    "df_normal.classtype.value_counts()"
   ]
  },
  {
   "cell_type": "code",
   "execution_count": 100,
   "id": "0493463e-fdaa-47f0-a29f-21537897bd0e",
   "metadata": {},
   "outputs": [
    {
     "name": "stdout",
     "output_type": "stream",
     "text": [
      "<class 'pandas.core.frame.DataFrame'>\n",
      "RangeIndex: 100244 entries, 0 to 100243\n",
      "Data columns (total 5 columns):\n",
      " #   Column     Non-Null Count   Dtype \n",
      "---  ------     --------------   ----- \n",
      " 0   context    100244 non-null  object\n",
      " 1   id         100244 non-null  object\n",
      " 2   question   100244 non-null  object\n",
      " 3   title      100244 non-null  object\n",
      " 4   classtype  100244 non-null  object\n",
      "dtypes: object(5)\n",
      "memory usage: 3.8+ MB\n"
     ]
    }
   ],
   "source": [
    "df_noanswer.info()"
   ]
  },
  {
   "cell_type": "code",
   "execution_count": 101,
   "id": "621bea8f-00d8-4df2-a883-fe4a4721de89",
   "metadata": {
    "tags": []
   },
   "outputs": [],
   "source": [
    "df_noanswer['answer_text'] = ''\n",
    "df_noanswer['answer_start'] = 0\n",
    "\n",
    "df_noanswer['answer_text'] = df_noanswer['answer_text'].apply(lambda x: [x])\n",
    "df_noanswer['answer_start'] = df_noanswer['answer_start'].apply(lambda x: [x])"
   ]
  },
  {
   "cell_type": "code",
   "execution_count": 102,
   "id": "67537447-f652-4176-b8e5-3ae8ac88828d",
   "metadata": {},
   "outputs": [],
   "source": [
    "ans_list = []\n",
    "for i in range(len(df_noanswer)):\n",
    "    ans_list.append({'text': df_noanswer['answer_text'][i], 'answer_start': df_noanswer['answer_start'][i]})"
   ]
  },
  {
   "cell_type": "code",
   "execution_count": 103,
   "id": "c30744b8-f10b-4254-bba1-5b54e7e51521",
   "metadata": {
    "tags": []
   },
   "outputs": [],
   "source": [
    "df_noanswer['answers'] = ans_list"
   ]
  },
  {
   "cell_type": "code",
   "execution_count": 104,
   "id": "b4d1d86d-f466-4c56-8cca-54c1c760d9da",
   "metadata": {},
   "outputs": [
    {
     "data": {
      "text/plain": [
       "17490"
      ]
     },
     "execution_count": 104,
     "metadata": {},
     "output_type": "execute_result"
    }
   ],
   "source": [
    "len(set(df_noanswer.context))"
   ]
  },
  {
   "cell_type": "code",
   "execution_count": 105,
   "id": "3d039650-5676-41e6-a157-f418b6396b25",
   "metadata": {},
   "outputs": [
    {
     "data": {
      "text/plain": [
       "45455"
      ]
     },
     "execution_count": 105,
     "metadata": {},
     "output_type": "execute_result"
    }
   ],
   "source": [
    "len(set(df_normal.context))"
   ]
  },
  {
   "cell_type": "code",
   "execution_count": 106,
   "id": "ff12498b-10db-4996-b2e0-15c6250bf52d",
   "metadata": {},
   "outputs": [
    {
     "data": {
      "text/plain": [
       "45453"
      ]
     },
     "execution_count": 106,
     "metadata": {},
     "output_type": "execute_result"
    }
   ],
   "source": [
    "len(set(df_normal.context)-set(df_noanswer.context))"
   ]
  },
  {
   "cell_type": "code",
   "execution_count": 107,
   "id": "70e583c1-5f5b-4139-aaeb-9e408565f3a6",
   "metadata": {},
   "outputs": [],
   "source": [
    "df_noanswer_train = df_noanswer.iloc[:round(len(df_noanswer)*0.90)+1,:]\n",
    "df_noanswer_val = df_noanswer.iloc[round(len(df_noanswer)*0.90)+1:,:]"
   ]
  },
  {
   "cell_type": "code",
   "execution_count": 108,
   "id": "37d70578-f266-4eac-a9fc-66ad933fa87f",
   "metadata": {},
   "outputs": [],
   "source": [
    "df_normal_train = df_normal.iloc[:round(len(df_normal)*0.90),:]\n",
    "df_normal_val = df_normal.iloc[round(len(df_normal)*0.90):,:]"
   ]
  },
  {
   "cell_type": "code",
   "execution_count": 109,
   "id": "cd552806-c929-435a-bc6b-3eab33f7a226",
   "metadata": {},
   "outputs": [
    {
     "name": "stdout",
     "output_type": "stream",
     "text": [
      "work_why      18719\n",
      "work_how      18289\n",
      "work_when     15566\n",
      "work_where    14124\n",
      "work_who      11915\n",
      "work_what     11608\n",
      "Name: classtype, dtype: int64\n",
      "work_why      2132\n",
      "work_how      2048\n",
      "work_when     1697\n",
      "work_where    1519\n",
      "work_who      1337\n",
      "work_what     1290\n",
      "Name: classtype, dtype: int64\n",
      "==================================================\n",
      "work_what     44582\n",
      "work_who      40393\n",
      "work_when     35860\n",
      "work_how      30520\n",
      "work_where    29933\n",
      "work_why      25295\n",
      "Name: classtype, dtype: int64\n",
      "work_what     4929\n",
      "work_who      4482\n",
      "work_when     4017\n",
      "work_how      3390\n",
      "work_where    3318\n",
      "work_why      2818\n",
      "Name: classtype, dtype: int64\n"
     ]
    }
   ],
   "source": [
    "print(df_noanswer_train.classtype.value_counts())\n",
    "print(df_noanswer_val.classtype.value_counts())\n",
    "print(\"=\"*50)\n",
    "print(df_normal_train.classtype.value_counts())\n",
    "print(df_normal_val.classtype.value_counts())"
   ]
  },
  {
   "cell_type": "code",
   "execution_count": 110,
   "id": "db04b272-39f7-450b-91b2-603e4136ce79",
   "metadata": {},
   "outputs": [],
   "source": [
    "train_df = pd.concat([df_normal_train,df_noanswer_train]).reset_index(drop=True)\n",
    "val_df = pd.concat([df_normal_val,df_noanswer_val]).reset_index(drop=True)"
   ]
  },
  {
   "cell_type": "code",
   "execution_count": 111,
   "id": "8b59732f-4cf4-4194-a6cf-d768e12ba53a",
   "metadata": {},
   "outputs": [],
   "source": [
    "train_df = train_df.sample(frac=1, random_state=42).reset_index(drop=True)\n",
    "val_df = val_df.sample(frac=1, random_state=42).reset_index(drop=True)"
   ]
  },
  {
   "cell_type": "code",
   "execution_count": 112,
   "id": "9321da23-6de7-4e4f-91a3-b012e477938b",
   "metadata": {},
   "outputs": [],
   "source": [
    "train_df = train_df.drop(['answer_text','answer_start'],axis=1)\n",
    "val_df = val_df.drop(['answer_text','answer_start'],axis=1)"
   ]
  },
  {
   "cell_type": "code",
   "execution_count": 113,
   "id": "2519a430-b73a-4f56-bf40-45ceeaf12f0e",
   "metadata": {
    "tags": []
   },
   "outputs": [],
   "source": [
    "train = Dataset.from_pandas(train_df)\n",
    "validation = Dataset.from_pandas(val_df)"
   ]
  },
  {
   "cell_type": "code",
   "execution_count": 114,
   "id": "7d2f486a-244b-4c83-be51-dd38324644e5",
   "metadata": {},
   "outputs": [
    {
     "data": {
      "text/html": [
       "<div>\n",
       "<style scoped>\n",
       "    .dataframe tbody tr th:only-of-type {\n",
       "        vertical-align: middle;\n",
       "    }\n",
       "\n",
       "    .dataframe tbody tr th {\n",
       "        vertical-align: top;\n",
       "    }\n",
       "\n",
       "    .dataframe thead th {\n",
       "        text-align: right;\n",
       "    }\n",
       "</style>\n",
       "<table border=\"1\" class=\"dataframe\">\n",
       "  <thead>\n",
       "    <tr style=\"text-align: right;\">\n",
       "      <th></th>\n",
       "      <th>answers</th>\n",
       "      <th>context</th>\n",
       "      <th>id</th>\n",
       "      <th>question</th>\n",
       "      <th>title</th>\n",
       "      <th>classtype</th>\n",
       "    </tr>\n",
       "  </thead>\n",
       "  <tbody>\n",
       "    <tr>\n",
       "      <th>0</th>\n",
       "      <td>{'text': [''], 'answer_start': [0]}</td>\n",
       "      <td>\"정부는 내년도 예산을 역대 최대 규모인 470조 원으로 편성하면서 일자리 분야 비...</td>\n",
       "      <td>c2_366877-1</td>\n",
       "      <td>정부가 작년에 편성한 예산은 얼마였나?</td>\n",
       "      <td>20181102064713000</td>\n",
       "      <td>work_who</td>\n",
       "    </tr>\n",
       "    <tr>\n",
       "      <th>1</th>\n",
       "      <td>{'text': ['국민적 공감대'], 'answer_start': [1021]}</td>\n",
       "      <td>신행정수도 후속대책과 관련한 여야 합의를 둘러싼 한나라당내 반발 기류가 심상치 않다...</td>\n",
       "      <td>c1_96542-1</td>\n",
       "      <td>임태희 의원은 무엇을 형성해서 후속대책을 추진하기로 했어?</td>\n",
       "      <td>13310</td>\n",
       "      <td>work_what</td>\n",
       "    </tr>\n",
       "    <tr>\n",
       "      <th>2</th>\n",
       "      <td>{'text': ['처벌규정 강화'], 'answer_start': [546]}</td>\n",
       "      <td>한국인터넷기업협회(인기협)와 한국게임산업협회, 전자상거래및통신판매협회 등 3개 단체...</td>\n",
       "      <td>c1_103234-1</td>\n",
       "      <td>한국인터넷기업협회(인기협)와 한국게임산업협회, 전자상거래및통신판매협회 등 3개 단체...</td>\n",
       "      <td>11218</td>\n",
       "      <td>work_what</td>\n",
       "    </tr>\n",
       "    <tr>\n",
       "      <th>3</th>\n",
       "      <td>{'text': ['대동강 물'], 'answer_start': [849]}</td>\n",
       "      <td>가수 최진희씨가 우리 예술단의 평양 공연 ‘봄이 온다’ 뒷얘기를 전했다. 최씨는 5...</td>\n",
       "      <td>c1_153753-1</td>\n",
       "      <td>최씨는 \"우리가 맨날 대동강아 내가 왔다, 을밀대야 내가 왔다, 이런 노래 불렀는데...</td>\n",
       "      <td>20180405115140000</td>\n",
       "      <td>work_what</td>\n",
       "    </tr>\n",
       "    <tr>\n",
       "      <th>4</th>\n",
       "      <td>{'text': ['18일'], 'answer_start': [128]}</td>\n",
       "      <td>6차전서 80대 77로 DB 꺾어… 1·2차 패배 후 4연승 사상 최초 역전 우승 ...</td>\n",
       "      <td>c1_171386-1</td>\n",
       "      <td>서울SK는 언제 DB와 결승전을 치뤘어 ?</td>\n",
       "      <td>20180419001234000</td>\n",
       "      <td>work_when</td>\n",
       "    </tr>\n",
       "    <tr>\n",
       "      <th>...</th>\n",
       "      <td>...</td>\n",
       "      <td>...</td>\n",
       "      <td>...</td>\n",
       "      <td>...</td>\n",
       "      <td>...</td>\n",
       "      <td>...</td>\n",
       "    </tr>\n",
       "    <tr>\n",
       "      <th>296799</th>\n",
       "      <td>{'text': ['잠실구장'], 'answer_start': [469]}</td>\n",
       "      <td>프로야구 두산의 거포 김동주(29)가 은퇴 의사를 접고 그라운드에 복귀한다. 김동주...</td>\n",
       "      <td>c1_115075-1</td>\n",
       "      <td>김동주는 오는 10일 오전 10시 어디에서 열리는 선수단 시무식에 참석을 하는가?</td>\n",
       "      <td>1592</td>\n",
       "      <td>work_where</td>\n",
       "    </tr>\n",
       "    <tr>\n",
       "      <th>296800</th>\n",
       "      <td>{'text': [''], 'answer_start': [0]}</td>\n",
       "      <td>\"서울 도봉산 둘레길 인근에서 멧돼지 십여 마리가 한꺼번에 나타나 먹이를 찾는 모습...</td>\n",
       "      <td>c2_361398-1</td>\n",
       "      <td>도봉산 멧돼지는 어떻게 사람을 공격해?</td>\n",
       "      <td>20180917092556000</td>\n",
       "      <td>work_how</td>\n",
       "    </tr>\n",
       "    <tr>\n",
       "      <th>296801</th>\n",
       "      <td>{'text': ['잠실새내역 인근의 새마을전통시장 재디자인과 고질적인 교통체증 문...</td>\n",
       "      <td>“저는 문재인 복심이 맞다. 패권주의 모략 받으면서 그동안 희생·어려움 겪어” 8월...</td>\n",
       "      <td>c1_170024-1</td>\n",
       "      <td>최 전 의원의 주요 공약은 무엇인가?</td>\n",
       "      <td>20180412064019000</td>\n",
       "      <td>work_what</td>\n",
       "    </tr>\n",
       "    <tr>\n",
       "      <th>296802</th>\n",
       "      <td>{'text': ['참석자들은 전사자들에 대한 헌화와 분향, 서해수호 약사 보고, ...</td>\n",
       "      <td>인천광역시(시장 유정복)는 23일 ‘제3회 서해수호의 날’을 맞아 월미공원 내 해군...</td>\n",
       "      <td>c1_155257-1</td>\n",
       "      <td>서해수호의 날 참석자들은 어떻게 서해수호의날을 추모했는가?</td>\n",
       "      <td>20180323171344000</td>\n",
       "      <td>work_how</td>\n",
       "    </tr>\n",
       "    <tr>\n",
       "      <th>296803</th>\n",
       "      <td>{'text': ['“화성 같다”며 환호했지만 일부 주민들은 “입속에서 모래가 느껴...</td>\n",
       "      <td>동유럽에 ‘황색 눈’이 내렸다. 영국 BBC, 가디언 등은 이 눈으로 뒤덮여 마치 ...</td>\n",
       "      <td>c1_144040-1</td>\n",
       "      <td>네티즌들은 이번 동유럽 모래폭풍에 대해 뭐라고 했어?</td>\n",
       "      <td>20180326172944000</td>\n",
       "      <td>work_what</td>\n",
       "    </tr>\n",
       "  </tbody>\n",
       "</table>\n",
       "<p>296804 rows × 6 columns</p>\n",
       "</div>"
      ],
      "text/plain": [
       "                                                  answers  \\\n",
       "0                     {'text': [''], 'answer_start': [0]}   \n",
       "1           {'text': ['국민적 공감대'], 'answer_start': [1021]}   \n",
       "2            {'text': ['처벌규정 강화'], 'answer_start': [546]}   \n",
       "3              {'text': ['대동강 물'], 'answer_start': [849]}   \n",
       "4                {'text': ['18일'], 'answer_start': [128]}   \n",
       "...                                                   ...   \n",
       "296799          {'text': ['잠실구장'], 'answer_start': [469]}   \n",
       "296800                {'text': [''], 'answer_start': [0]}   \n",
       "296801  {'text': ['잠실새내역 인근의 새마을전통시장 재디자인과 고질적인 교통체증 문...   \n",
       "296802  {'text': ['참석자들은 전사자들에 대한 헌화와 분향, 서해수호 약사 보고, ...   \n",
       "296803  {'text': ['“화성 같다”며 환호했지만 일부 주민들은 “입속에서 모래가 느껴...   \n",
       "\n",
       "                                                  context           id  \\\n",
       "0       \"정부는 내년도 예산을 역대 최대 규모인 470조 원으로 편성하면서 일자리 분야 비...  c2_366877-1   \n",
       "1       신행정수도 후속대책과 관련한 여야 합의를 둘러싼 한나라당내 반발 기류가 심상치 않다...   c1_96542-1   \n",
       "2       한국인터넷기업협회(인기협)와 한국게임산업협회, 전자상거래및통신판매협회 등 3개 단체...  c1_103234-1   \n",
       "3       가수 최진희씨가 우리 예술단의 평양 공연 ‘봄이 온다’ 뒷얘기를 전했다. 최씨는 5...  c1_153753-1   \n",
       "4       6차전서 80대 77로 DB 꺾어… 1·2차 패배 후 4연승 사상 최초 역전 우승 ...  c1_171386-1   \n",
       "...                                                   ...          ...   \n",
       "296799  프로야구 두산의 거포 김동주(29)가 은퇴 의사를 접고 그라운드에 복귀한다. 김동주...  c1_115075-1   \n",
       "296800  \"서울 도봉산 둘레길 인근에서 멧돼지 십여 마리가 한꺼번에 나타나 먹이를 찾는 모습...  c2_361398-1   \n",
       "296801  “저는 문재인 복심이 맞다. 패권주의 모략 받으면서 그동안 희생·어려움 겪어” 8월...  c1_170024-1   \n",
       "296802  인천광역시(시장 유정복)는 23일 ‘제3회 서해수호의 날’을 맞아 월미공원 내 해군...  c1_155257-1   \n",
       "296803  동유럽에 ‘황색 눈’이 내렸다. 영국 BBC, 가디언 등은 이 눈으로 뒤덮여 마치 ...  c1_144040-1   \n",
       "\n",
       "                                                 question              title  \\\n",
       "0                                   정부가 작년에 편성한 예산은 얼마였나?  20181102064713000   \n",
       "1                        임태희 의원은 무엇을 형성해서 후속대책을 추진하기로 했어?              13310   \n",
       "2       한국인터넷기업협회(인기협)와 한국게임산업협회, 전자상거래및통신판매협회 등 3개 단체...              11218   \n",
       "3       최씨는 \"우리가 맨날 대동강아 내가 왔다, 을밀대야 내가 왔다, 이런 노래 불렀는데...  20180405115140000   \n",
       "4                                 서울SK는 언제 DB와 결승전을 치뤘어 ?  20180419001234000   \n",
       "...                                                   ...                ...   \n",
       "296799      김동주는 오는 10일 오전 10시 어디에서 열리는 선수단 시무식에 참석을 하는가?               1592   \n",
       "296800                              도봉산 멧돼지는 어떻게 사람을 공격해?  20180917092556000   \n",
       "296801                               최 전 의원의 주요 공약은 무엇인가?  20180412064019000   \n",
       "296802                   서해수호의 날 참석자들은 어떻게 서해수호의날을 추모했는가?  20180323171344000   \n",
       "296803                      네티즌들은 이번 동유럽 모래폭풍에 대해 뭐라고 했어?  20180326172944000   \n",
       "\n",
       "         classtype  \n",
       "0         work_who  \n",
       "1        work_what  \n",
       "2        work_what  \n",
       "3        work_what  \n",
       "4        work_when  \n",
       "...            ...  \n",
       "296799  work_where  \n",
       "296800    work_how  \n",
       "296801   work_what  \n",
       "296802    work_how  \n",
       "296803   work_what  \n",
       "\n",
       "[296804 rows x 6 columns]"
      ]
     },
     "execution_count": 114,
     "metadata": {},
     "output_type": "execute_result"
    }
   ],
   "source": [
    "train_df"
   ]
  },
  {
   "cell_type": "code",
   "execution_count": 115,
   "id": "561cf028-fb7f-471c-baad-56410f3d5cf6",
   "metadata": {},
   "outputs": [
    {
     "data": {
      "text/plain": [
       "Dataset({\n",
       "    features: ['answers', 'context', 'id', 'question', 'title', 'classtype'],\n",
       "    num_rows: 296804\n",
       "})"
      ]
     },
     "execution_count": 115,
     "metadata": {},
     "output_type": "execute_result"
    }
   ],
   "source": [
    "train"
   ]
  },
  {
   "cell_type": "code",
   "execution_count": 116,
   "id": "68834b31-58b0-4639-9995-ce7c5e054edc",
   "metadata": {},
   "outputs": [],
   "source": [
    "dataset = DatasetDict()"
   ]
  },
  {
   "cell_type": "code",
   "execution_count": 117,
   "id": "0f7dc6fe-ba19-4bfc-99db-f8d1def31b00",
   "metadata": {},
   "outputs": [],
   "source": [
    "dataset['train'] = train\n",
    "dataset['validation'] = validation"
   ]
  },
  {
   "cell_type": "code",
   "execution_count": 118,
   "id": "17f560d5-152d-4640-a996-4dbcdad6afcb",
   "metadata": {},
   "outputs": [
    {
     "data": {
      "text/plain": [
       "DatasetDict({\n",
       "    train: Dataset({\n",
       "        features: ['answers', 'context', 'id', 'question', 'title', 'classtype'],\n",
       "        num_rows: 296804\n",
       "    })\n",
       "    validation: Dataset({\n",
       "        features: ['answers', 'context', 'id', 'question', 'title', 'classtype'],\n",
       "        num_rows: 32977\n",
       "    })\n",
       "})"
      ]
     },
     "execution_count": 118,
     "metadata": {},
     "output_type": "execute_result"
    }
   ],
   "source": [
    "dataset"
   ]
  },
  {
   "cell_type": "code",
   "execution_count": 119,
   "id": "3ba2eed8-1683-403f-8555-0599d755797e",
   "metadata": {},
   "outputs": [],
   "source": [
    "dataset.save_to_disk('./data/aihub/temp')"
   ]
  },
  {
   "cell_type": "code",
   "execution_count": 120,
   "id": "528fa10b-be08-45f3-82e0-44f6878e34d6",
   "metadata": {},
   "outputs": [],
   "source": [
    "dataset_new = load_from_disk(os.path.join(\"./data/aihub/temp\"))"
   ]
  },
  {
   "cell_type": "code",
   "execution_count": 121,
   "id": "c910061e-0e22-4b10-b04d-f1a9e6812d95",
   "metadata": {},
   "outputs": [
    {
     "data": {
      "text/plain": [
       "{'answers': {'answer_start': [0], 'text': ['']},\n",
       " 'context': '\"정부는 내년도 예산을 역대 최대 규모인 470조 원으로 편성하면서 일자리 분야 비중을 대폭 늘렸습니다 정부와 여당은 고용 대란을 극복하기 위해 재정 투입 확대가 불가피하다는 입장이지만 야당에선 단기 아르바이트 일자리만 늘리는 땜질식 처방이라며 대폭 삭감을 벼르고 있습니다. 예산안 심사의 핵심 쟁점으로 떠오른 일자리 예산을 최형원 기자가 짚어봤습니다. [리포트] 만 12살 이하의 자녀를 둔 가정에 돌보미가 직접 방문해 육아를 도와주는 &아이돌봄서비스& 사업. 올해 천83억 원의 예산이 투입됐는데, 내년엔 2천2백45억 원으로 2배 이상 늘어납니다. 돌보미 7천 명이 추가 채용되며, 수혜 가구도 올해 4만 6천 가구에서 9만 가구로 늘어날 전망입니다. 일자리 예산 23조 5천억 원 가운데 이처럼 &직접 일자리&를 만드는데 쓰이는 돈은 3조 7천 8백억 원, 지난해보다 5천 8백억 원 늘었습니다. 아이 돌보미나 보조 교사, 노인 일자리 등 취약계층 일자리 90만 개가 만들어질 걸로 기대됩니다. 하지만 이렇게 만들어지는 일자리 대부분은 시간제나 임시직입니다. [김태기/단국대 경제학과 교수 : 자리 자체가 몇 달짜리 단기알바이기 때문에 일자리 사업을 통해서 소비가 늘어난다든지 하는 이런 것은 기대하기 어렵다고 봅니다.] 직접 일자리 비중이 과도하다는 비판도 제기되지만, 전체 일자리 예산에서 직접 일자리가 차지하는 비중은 16.1%로 예년과 비슷한 수준입니다. 예산이 가장 많이 늘어난 분야는 고용 장려금으로, 지난해 대비 2조 천3백억 원 증가해 전체 증가분의 절반을 차지했습니다. 실업자 지원 분야도 지난해보다 1조3천4백억 원이 늘었습니다. 경제 전반에 걸친 산업 구조조정과 맞물려 간접 지원 예산이 늘어나고 있는 겁니다. [정창수/나라살림연구소 소장 : 일자리 예산 지원이 산업 구조조정, 창의성 증대 이런 것이 함께 가는 투자적인 역할이 필요하지 않을까 생각합니다.] 또 일자리 예산 투입되는 사업 상당수가 예년부터 해오던 사업들인 만큼 재정 투입 효과와 집행률 등을 고려해 증감 여부를 결정할 필요가 있다고 전문가들은 조언했습니다. KBS 뉴스 최형원입니다.\"',\n",
       " 'id': 'c2_366877-1',\n",
       " 'question': '정부가 작년에 편성한 예산은 얼마였나?',\n",
       " 'title': '20181102064713000',\n",
       " 'classtype': 'work_who'}"
      ]
     },
     "execution_count": 121,
     "metadata": {},
     "output_type": "execute_result"
    }
   ],
   "source": [
    "dataset_new['train'][0]"
   ]
  },
  {
   "cell_type": "code",
   "execution_count": null,
   "id": "3ceff409-73f0-4128-bb78-037a281d5f8b",
   "metadata": {},
   "outputs": [],
   "source": []
  }
 ],
 "metadata": {
  "kernelspec": {
   "display_name": "basic",
   "language": "python",
   "name": "basic"
  },
  "language_info": {
   "codemirror_mode": {
    "name": "ipython",
    "version": 3
   },
   "file_extension": ".py",
   "mimetype": "text/x-python",
   "name": "python",
   "nbconvert_exporter": "python",
   "pygments_lexer": "ipython3",
   "version": "3.8.12"
  }
 },
 "nbformat": 4,
 "nbformat_minor": 5
}
