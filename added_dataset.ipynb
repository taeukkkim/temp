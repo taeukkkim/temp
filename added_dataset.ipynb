{
 "cells": [
  {
   "cell_type": "markdown",
   "id": "80820d37",
   "metadata": {},
   "source": [
    "# KorQuAD"
   ]
  },
  {
   "cell_type": "code",
   "execution_count": 2,
   "id": "510c5ebb",
   "metadata": {},
   "outputs": [],
   "source": [
    "import os\n",
    "import datasets\n",
    "from datasets import (\n",
    "    Dataset,\n",
    "    DatasetDict, \n",
    "    load_from_disk, \n",
    "    load_dataset,\n",
    "    concatenate_datasets,\n",
    ")\n",
    "from datasets import Sequence, Value, Features\n",
    "\n",
    "import pandas as pd"
   ]
  },
  {
   "cell_type": "code",
   "execution_count": 2,
   "id": "c34800da",
   "metadata": {},
   "outputs": [],
   "source": [
    "answers = []\n",
    "contexts = []\n",
    "ids = []\n",
    "questions = []\n",
    "titles = []\n",
    "\n",
    "path = \"./data/korquad/KorQuAD_v1.0_dev.json\"\n",
    "dev = pd.read_json(path)\n",
    "\n",
    "for example in dev[\"data\"].tolist():\n",
    "    paragraphs = example[\"paragraphs\"]\n",
    "    title = example[\"title\"]\n",
    "    for paragraph in paragraphs:\n",
    "        qas = paragraph[\"qas\"]\n",
    "        context = paragraph[\"context\"]\n",
    "        for qa in qas:\n",
    "            text = [answers[\"text\"] for answers in qa[\"answers\"]]\n",
    "            answer_start = [answers[\"answer_start\"] for answers in qa[\"answers\"]]\n",
    "            ids.append(qa[\"id\"])\n",
    "            questions.append(qa[\"question\"])\n",
    "            answers.append({\"text\": text, \"answer_start\": answer_start})\n",
    "            contexts.append(context)\n",
    "            titles.append(title)    "
   ]
  },
  {
   "cell_type": "code",
   "execution_count": 3,
   "id": "19c22e85",
   "metadata": {},
   "outputs": [
    {
     "data": {
      "text/plain": [
       "(5774, 5774, 5774, 5774, 5774)"
      ]
     },
     "execution_count": 3,
     "metadata": {},
     "output_type": "execute_result"
    }
   ],
   "source": [
    "len(answers), len(contexts), len(ids), len(questions), len(titles)"
   ]
  },
  {
   "cell_type": "code",
   "execution_count": 4,
   "id": "20f2268a",
   "metadata": {},
   "outputs": [
    {
     "data": {
      "text/plain": [
       "(5774, 5)"
      ]
     },
     "execution_count": 4,
     "metadata": {},
     "output_type": "execute_result"
    }
   ],
   "source": [
    "korquad_dev = {\n",
    "    \"answers\": answers,\n",
    "    \"context\": contexts,\n",
    "    \"id\": ids,\n",
    "    \"question\": questions,\n",
    "    \"title\": titles,\n",
    "}\n",
    "korquad_dev = pd.DataFrame(korquad_dev)\n",
    "korquad_dev.shape"
   ]
  },
  {
   "cell_type": "code",
   "execution_count": null,
   "id": "e8d09e19",
   "metadata": {},
   "outputs": [],
   "source": [
    "answers = []\n",
    "contexts = []\n",
    "ids = []\n",
    "questions = []\n",
    "titles = []\n",
    "\n",
    "path = \"./data/korquad/KorQuAD_v1.0_train.json\"\n",
    "train = pd.read_json(path)\n",
    "\n",
    "for example in train[\"data\"].tolist():\n",
    "    paragraphs = example[\"paragraphs\"]\n",
    "    title = example[\"title\"]\n",
    "    for paragraph in paragraphs:\n",
    "        qas = paragraph[\"qas\"]\n",
    "        context = paragraph[\"context\"]\n",
    "        for qa in qas:\n",
    "            text = [answers[\"text\"] for answers in qa[\"answers\"]]\n",
    "            answer_start = [answers[\"answer_start\"] for answers in qa[\"answers\"]]\n",
    "            ids.append(qa[\"id\"])\n",
    "            questions.append(qa[\"question\"])\n",
    "            answers.append({\"text\": text, \"answer_start\": answer_start})\n",
    "            contexts.append(context)\n",
    "            titles.append(title)    "
   ]
  },
  {
   "cell_type": "code",
   "execution_count": 6,
   "id": "4e9c2810",
   "metadata": {},
   "outputs": [
    {
     "data": {
      "text/plain": [
       "(60407, 5)"
      ]
     },
     "execution_count": 6,
     "metadata": {},
     "output_type": "execute_result"
    }
   ],
   "source": [
    "korquad_train = {\n",
    "    \"answers\": answers,\n",
    "    \"context\": contexts,\n",
    "    \"id\": ids,\n",
    "    \"question\": questions,\n",
    "    \"title\": titles,\n",
    "}\n",
    "korquad_train = pd.DataFrame(korquad_train)\n",
    "korquad_train.shape"
   ]
  },
  {
   "cell_type": "code",
   "execution_count": 7,
   "id": "74734280",
   "metadata": {},
   "outputs": [],
   "source": [
    "features = Features(\n",
    "    {\n",
    "        \"answers\": Sequence(\n",
    "            feature={\n",
    "                \"text\": Value(dtype=\"string\", id=None),\n",
    "                \"answer_start\": Value(dtype=\"int32\", id=None),\n",
    "            },\n",
    "            length=-1,\n",
    "            id=None,\n",
    "        ),\n",
    "        \"context\": Value(dtype=\"string\", id=None),\n",
    "        \"id\": Value(dtype=\"string\", id=None),\n",
    "        \"question\": Value(dtype=\"string\", id=None),\n",
    "        \"title\": Value(dtype=\"string\", id=None),\n",
    "    }\n",
    ")"
   ]
  },
  {
   "cell_type": "code",
   "execution_count": 8,
   "id": "3d038cab",
   "metadata": {},
   "outputs": [],
   "source": [
    "korquad_train = Dataset.from_pandas(korquad_train, features=features)\n",
    "korquad_dev = Dataset.from_pandas(korquad_dev, features=features)"
   ]
  },
  {
   "cell_type": "code",
   "execution_count": 11,
   "id": "4568755b",
   "metadata": {},
   "outputs": [],
   "source": [
    "DatasetDict(\n",
    "    {\"train\": korquad_train,\n",
    "     \"validation\": korquad_dev,}\n",
    ").save_to_disk(\"./data/korquad/\")"
   ]
  },
  {
   "cell_type": "markdown",
   "id": "89920e62",
   "metadata": {},
   "source": [
    "# AI Hub Data"
   ]
  },
  {
   "cell_type": "code",
   "execution_count": 3,
   "id": "7e025e30",
   "metadata": {},
   "outputs": [],
   "source": [
    "answers = []\n",
    "contexts = []\n",
    "ids = []\n",
    "questions = []\n",
    "titles = []\n",
    "classtypes = []\n",
    "\n",
    "path = \"./data/aihub/ko_nia_normal_squad_all.json\"\n",
    "normal = pd.read_json(path)\n",
    "\n",
    "for example in normal[\"data\"].tolist():\n",
    "    paragraphs = example[\"paragraphs\"]\n",
    "    title = example[\"title\"]\n",
    "    for paragraph in paragraphs:\n",
    "        qas = paragraph[\"qas\"]\n",
    "        context = paragraph[\"context\"]\n",
    "        for qa in qas:\n",
    "            text = [answers[\"text\"] for answers in qa[\"answers\"]]\n",
    "            answer_start = [answers[\"answer_start\"] for answers in qa[\"answers\"]]\n",
    "            ids.append(qa[\"id\"])\n",
    "            questions.append(qa[\"question\"])\n",
    "            answers.append({\"text\": text, \"answer_start\": answer_start})\n",
    "            contexts.append(context)\n",
    "            titles.append(title)\n",
    "            classtypes.append(qa[\"classtype\"])"
   ]
  },
  {
   "cell_type": "code",
   "execution_count": 4,
   "id": "ae4251ed",
   "metadata": {},
   "outputs": [],
   "source": [
    "features = Features(\n",
    "    {\n",
    "        \"answers\": Sequence(\n",
    "            feature={\n",
    "                \"text\": Value(dtype=\"string\", id=None),\n",
    "                \"answer_start\": Value(dtype=\"int32\", id=None),\n",
    "            },\n",
    "            length=-1,\n",
    "            id=None,\n",
    "        ),\n",
    "        \"context\": Value(dtype=\"string\", id=None),\n",
    "        \"id\": Value(dtype=\"string\", id=None),\n",
    "        \"question\": Value(dtype=\"string\", id=None),\n",
    "        \"title\": Value(dtype=\"string\", id=None),\n",
    "        \"classtype\": Value(dtype=\"string\", id=None),\n",
    "    }\n",
    ")"
   ]
  },
  {
   "cell_type": "code",
   "execution_count": 5,
   "id": "3f649168",
   "metadata": {},
   "outputs": [
    {
     "data": {
      "text/plain": [
       "(243425, 6)"
      ]
     },
     "execution_count": 5,
     "metadata": {},
     "output_type": "execute_result"
    }
   ],
   "source": [
    "normal = {\n",
    "    \"answers\": answers,\n",
    "    \"context\": contexts,\n",
    "    \"id\": ids,\n",
    "    \"question\": questions,\n",
    "    \"title\": titles,\n",
    "    \"classtype\": classtypes,\n",
    "}\n",
    "normal = pd.DataFrame(normal)\n",
    "normal.shape"
   ]
  },
  {
   "cell_type": "code",
   "execution_count": 6,
   "id": "23d37a7f",
   "metadata": {},
   "outputs": [],
   "source": [
    "normal = Dataset.from_pandas(normal, features=features)"
   ]
  },
  {
   "cell_type": "code",
   "execution_count": 7,
   "id": "e268ddab",
   "metadata": {},
   "outputs": [],
   "source": [
    "path = \"./data/aihub/ko_nia_noanswer_squad_all.json\"\n",
    "noanswer = pd.read_json(path)"
   ]
  },
  {
   "cell_type": "code",
   "execution_count": 8,
   "id": "b32a6cc1",
   "metadata": {},
   "outputs": [],
   "source": [
    "# answers = []\n",
    "contexts = []\n",
    "ids = []\n",
    "questions = []\n",
    "titles = []\n",
    "classtypes = []\n",
    "\n",
    "path = \"./data/aihub/ko_nia_noanswer_squad_all.json\"\n",
    "noanswer = pd.read_json(path)\n",
    "\n",
    "for example in noanswer[\"data\"].tolist():\n",
    "    paragraphs = example[\"paragraphs\"]\n",
    "    title = example[\"title\"]\n",
    "    for paragraph in paragraphs:\n",
    "        qas = paragraph[\"qas\"]\n",
    "        context = paragraph[\"context\"]\n",
    "        for qa in qas:\n",
    "            # text = [answers[\"text\"] for answers in qa[\"answers\"]]\n",
    "            # answer_start = [answers[\"answer_start\"] for answers in qa[\"answers\"]]\n",
    "            ids.append(qa[\"id\"])\n",
    "            questions.append(qa[\"question\"])\n",
    "            # answers.append({\"text\": text, \"answer_start\": answer_start})\n",
    "            contexts.append(context)\n",
    "            titles.append(title)\n",
    "            classtypes.append(qa[\"classtype\"])"
   ]
  },
  {
   "cell_type": "code",
   "execution_count": 9,
   "id": "32048239",
   "metadata": {},
   "outputs": [
    {
     "data": {
      "text/plain": [
       "(100244, 5)"
      ]
     },
     "execution_count": 9,
     "metadata": {},
     "output_type": "execute_result"
    }
   ],
   "source": [
    "noanswer = {\n",
    "    # \"answers\": answers,\n",
    "    \"context\": contexts,\n",
    "    \"id\": ids,\n",
    "    \"question\": questions,\n",
    "    \"title\": titles,\n",
    "    \"classtype\": classtypes,\n",
    "}\n",
    "noanswer = pd.DataFrame(noanswer)\n",
    "noanswer.shape"
   ]
  },
  {
   "cell_type": "code",
   "execution_count": 10,
   "id": "9160ac5c",
   "metadata": {},
   "outputs": [],
   "source": [
    "features = Features(\n",
    "    {\n",
    "        # \"answers\": Sequence(\n",
    "        #     feature={\n",
    "        #         \"text\": Value(dtype=\"string\", id=None),\n",
    "        #         \"answer_start\": Value(dtype=\"int32\", id=None),\n",
    "        #     },\n",
    "        #     length=-1,\n",
    "        #     id=None,\n",
    "        # ),\n",
    "        \"context\": Value(dtype=\"string\", id=None),\n",
    "        \"id\": Value(dtype=\"string\", id=None),\n",
    "        \"question\": Value(dtype=\"string\", id=None),\n",
    "        \"title\": Value(dtype=\"string\", id=None),\n",
    "        \"classtype\": Value(dtype=\"string\", id=None),\n",
    "    }\n",
    ")\n",
    "\n",
    "noanswer = Dataset.from_pandas(noanswer, features=features)"
   ]
  },
  {
   "cell_type": "code",
   "execution_count": 11,
   "id": "26721663",
   "metadata": {},
   "outputs": [],
   "source": [
    "answers = []\n",
    "clues = []\n",
    "contexts = []\n",
    "ids = []\n",
    "questions = []\n",
    "titles = []\n",
    "classtypes = []\n",
    "\n",
    "path = \"./data/aihub/ko_nia_clue0529_squad_all.json\"\n",
    "clue = pd.read_json(path)\n",
    "\n",
    "for example in clue[\"data\"].tolist():\n",
    "    paragraphs = example[\"paragraphs\"]\n",
    "    title = example[\"title\"]\n",
    "    for paragraph in paragraphs:\n",
    "        qas = paragraph[\"qas\"]\n",
    "        context = paragraph[\"context\"]\n",
    "        for qa in qas:\n",
    "            text = [answers[\"text\"] for answers in qa[\"answers\"]]\n",
    "            answer_start = [answers[\"answer_start\"] for answers in qa[\"answers\"]]\n",
    "            clue_text = [answers[\"clue_text\"] for answers in qa[\"clue\"]]\n",
    "            clue_start = [answers[\"clue_start\"] for answers in qa[\"clue\"]]\n",
    "            ids.append(qa[\"id\"])\n",
    "            questions.append(qa[\"question\"])\n",
    "            answers.append({\"text\": text, \"answer_start\": answer_start})\n",
    "            clues.append({\"clue_text\": clue_text, \"clue_start\": clue_start})\n",
    "            contexts.append(context)\n",
    "            titles.append(title)\n",
    "            classtypes.append(qa[\"classtype\"])"
   ]
  },
  {
   "cell_type": "code",
   "execution_count": 12,
   "id": "db11901b",
   "metadata": {},
   "outputs": [
    {
     "data": {
      "text/plain": [
       "(96663, 7)"
      ]
     },
     "execution_count": 12,
     "metadata": {},
     "output_type": "execute_result"
    }
   ],
   "source": [
    "clue = {\n",
    "    \"answers\": answers,\n",
    "    \"clue\": clues,\n",
    "    \"context\": contexts,\n",
    "    \"id\": ids,\n",
    "    \"question\": questions,\n",
    "    \"title\": titles,\n",
    "    \"classtype\": classtypes,\n",
    "}\n",
    "clue = pd.DataFrame(clue)\n",
    "clue.shape"
   ]
  },
  {
   "cell_type": "code",
   "execution_count": 13,
   "id": "6bdc54fe",
   "metadata": {},
   "outputs": [],
   "source": [
    "features = Features(\n",
    "    {\n",
    "        \"answers\": Sequence(\n",
    "            feature={\n",
    "                \"text\": Value(dtype=\"string\", id=None),\n",
    "                \"answer_start\": Value(dtype=\"int32\", id=None),\n",
    "            },\n",
    "            length=-1,\n",
    "            id=None,\n",
    "        ),\n",
    "        \"clue\": Sequence(\n",
    "            feature={\n",
    "                \"clue_text\": Value(dtype=\"string\", id=None),\n",
    "                \"clue_start\": Value(dtype=\"int32\", id=None),\n",
    "            },\n",
    "            length=-1,\n",
    "            id=None,\n",
    "        ),\n",
    "        \"context\": Value(dtype=\"string\", id=None),\n",
    "        \"id\": Value(dtype=\"string\", id=None),\n",
    "        \"question\": Value(dtype=\"string\", id=None),\n",
    "        \"title\": Value(dtype=\"string\", id=None),\n",
    "        \"classtype\": Value(dtype=\"string\", id=None),\n",
    "    }\n",
    ")\n",
    "\n",
    "clue = Dataset.from_pandas(clue, features=features)"
   ]
  },
  {
   "cell_type": "code",
   "execution_count": 14,
   "id": "62d764f7",
   "metadata": {},
   "outputs": [],
   "source": [
    "DatasetDict(\n",
    "    {\"normal\": normal,\n",
    "     \"noanswer\": noanswer,\n",
    "     \"clue\": clue,}\n",
    ").save_to_disk(\"./data/aihub/\")"
   ]
  },
  {
   "cell_type": "markdown",
   "id": "1b184350",
   "metadata": {},
   "source": [
    "# AI Hub Book"
   ]
  },
  {
   "cell_type": "code",
   "execution_count": 80,
   "id": "baab76e0",
   "metadata": {},
   "outputs": [],
   "source": [
    "answers = []\n",
    "contexts = []\n",
    "ids = []\n",
    "questions = []\n",
    "titles = []\n",
    "is_impossibles = []\n",
    "\n",
    "path = \"./data/aihub_book/train.json\"\n",
    "book_train = pd.read_json(path)\n",
    "\n",
    "for example in book_train[\"data\"].tolist():\n",
    "    paragraphs = example[\"paragraphs\"]\n",
    "    title = example[\"title\"]\n",
    "    for paragraph in paragraphs:\n",
    "        qas = paragraph[\"qas\"]\n",
    "        context = paragraph[\"context\"]\n",
    "        for qa in qas:\n",
    "            text = [answers[\"text\"] for answers in qa[\"answers\"]]\n",
    "            answer_start = [answers[\"answer_start\"] for answers in qa[\"answers\"]]\n",
    "            ids.append(str(qa[\"id\"]))\n",
    "            questions.append(qa[\"question\"])\n",
    "            answers.append({\"text\": text, \"answer_start\": answer_start})\n",
    "            contexts.append(context)\n",
    "            titles.append(title)\n",
    "            is_impossibles.append(qa[\"is_impossible\"])"
   ]
  },
  {
   "cell_type": "code",
   "execution_count": 81,
   "id": "93420f4f",
   "metadata": {},
   "outputs": [
    {
     "data": {
      "text/plain": [
       "(900000, 6)"
      ]
     },
     "execution_count": 81,
     "metadata": {},
     "output_type": "execute_result"
    }
   ],
   "source": [
    "book_train = {\n",
    "    \"answers\": answers,\n",
    "    \"context\": contexts,\n",
    "    \"id\": ids,\n",
    "    \"question\": questions,\n",
    "    \"title\": titles,\n",
    "    \"is_impossible\": is_impossibles,\n",
    "}\n",
    "book_train = pd.DataFrame(book_train)\n",
    "book_train.shape"
   ]
  },
  {
   "cell_type": "code",
   "execution_count": 84,
   "id": "af77e846",
   "metadata": {},
   "outputs": [],
   "source": [
    "features = Features(\n",
    "    {\n",
    "        \"answers\": Sequence(\n",
    "            feature={\n",
    "                \"text\": Value(dtype=\"string\", id=None),\n",
    "                \"answer_start\": Value(dtype=\"int32\", id=None),\n",
    "            },\n",
    "            length=-1,\n",
    "            id=None,\n",
    "        ),\n",
    "        \"context\": Value(dtype=\"string\", id=None),\n",
    "        \"id\": Value(dtype=\"string\", id=None),\n",
    "        \"question\": Value(dtype=\"string\", id=None),\n",
    "        \"title\": Value(dtype=\"string\", id=None),\n",
    "        \"is_impossible\": Value(dtype=\"bool\", id=None),\n",
    "    }\n",
    ")\n",
    "\n",
    "book_train = Dataset.from_pandas(book_train, features=features)"
   ]
  },
  {
   "cell_type": "code",
   "execution_count": 88,
   "id": "d2014bca",
   "metadata": {},
   "outputs": [],
   "source": [
    "answers = []\n",
    "contexts = []\n",
    "ids = []\n",
    "questions = []\n",
    "titles = []\n",
    "is_impossibles = []\n",
    "\n",
    "path = \"./data/aihub_book/valid.json\"\n",
    "book_valid = pd.read_json(path)\n",
    "\n",
    "for example in book_valid[\"data\"].tolist():\n",
    "    paragraphs = example[\"paragraphs\"]\n",
    "    title = example[\"title\"]\n",
    "    for paragraph in paragraphs:\n",
    "        qas = paragraph[\"qas\"]\n",
    "        context = paragraph[\"context\"]\n",
    "        for qa in qas:\n",
    "            text = [answers[\"text\"] for answers in qa[\"answers\"]]\n",
    "            answer_start = [answers[\"answer_start\"] for answers in qa[\"answers\"]]\n",
    "            ids.append(str(qa[\"id\"]))\n",
    "            questions.append(qa[\"question\"])\n",
    "            answers.append({\"text\": text, \"answer_start\": answer_start})\n",
    "            contexts.append(context)\n",
    "            titles.append(title)\n",
    "            is_impossibles.append(qa[\"is_impossible\"])"
   ]
  },
  {
   "cell_type": "code",
   "execution_count": 89,
   "id": "881f4a71",
   "metadata": {},
   "outputs": [
    {
     "data": {
      "text/plain": [
       "(50000, 6)"
      ]
     },
     "execution_count": 89,
     "metadata": {},
     "output_type": "execute_result"
    }
   ],
   "source": [
    "book_valid = {\n",
    "    \"answers\": answers,\n",
    "    \"context\": contexts,\n",
    "    \"id\": ids,\n",
    "    \"question\": questions,\n",
    "    \"title\": titles,\n",
    "    \"is_impossible\": is_impossibles,\n",
    "}\n",
    "book_valid = pd.DataFrame(book_valid)\n",
    "book_valid.shape"
   ]
  },
  {
   "cell_type": "code",
   "execution_count": 90,
   "id": "e12bbcee",
   "metadata": {},
   "outputs": [],
   "source": [
    "features = Features(\n",
    "    {\n",
    "        \"answers\": Sequence(\n",
    "            feature={\n",
    "                \"text\": Value(dtype=\"string\", id=None),\n",
    "                \"answer_start\": Value(dtype=\"int32\", id=None),\n",
    "            },\n",
    "            length=-1,\n",
    "            id=None,\n",
    "        ),\n",
    "        \"context\": Value(dtype=\"string\", id=None),\n",
    "        \"id\": Value(dtype=\"string\", id=None),\n",
    "        \"question\": Value(dtype=\"string\", id=None),\n",
    "        \"title\": Value(dtype=\"string\", id=None),\n",
    "        \"is_impossible\": Value(dtype=\"bool\", id=None),\n",
    "    }\n",
    ")\n",
    "\n",
    "book_valid = Dataset.from_pandas(book_valid, features=features)"
   ]
  },
  {
   "cell_type": "code",
   "execution_count": 91,
   "id": "74d3c2c6",
   "metadata": {},
   "outputs": [],
   "source": [
    "DatasetDict(\n",
    "    {\"train\": book_train,\n",
    "     \"validation\": book_valid,}\n",
    ").save_to_disk(\"./data/aihub_book/\")"
   ]
  },
  {
   "cell_type": "code",
   "execution_count": null,
   "id": "a1d2dace",
   "metadata": {},
   "outputs": [],
   "source": []
  }
 ],
 "metadata": {
  "kernelspec": {
   "display_name": "basic",
   "language": "python",
   "name": "basic"
  },
  "language_info": {
   "codemirror_mode": {
    "name": "ipython",
    "version": 3
   },
   "file_extension": ".py",
   "mimetype": "text/x-python",
   "name": "python",
   "nbconvert_exporter": "python",
   "pygments_lexer": "ipython3",
   "version": "3.8.12"
  }
 },
 "nbformat": 4,
 "nbformat_minor": 5
}
